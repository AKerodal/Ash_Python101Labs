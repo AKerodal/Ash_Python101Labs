{
 "cells": [
  {
   "cell_type": "code",
   "execution_count": 1,
   "id": "338f8cbe-5774-477e-8382-65ff072d926a",
   "metadata": {},
   "outputs": [
    {
     "data": {
      "text/plain": [
       "['ACDC', 'Back in Black', 1980, 'hard rock', 26.1, 50]"
      ]
     },
     "execution_count": 1,
     "metadata": {},
     "output_type": "execute_result"
    }
   ],
   "source": [
    "L = [\"ACDC\",\"Back in Black\", 1980, \"hard rock\",26.1, 50]\n",
    "L"
   ]
  },
  {
   "cell_type": "code",
   "execution_count": 2,
   "id": "1e98d7e2-e05a-4587-b530-0b9d629c1e5d",
   "metadata": {},
   "outputs": [
    {
     "name": "stdout",
     "output_type": "stream",
     "text": [
      "the same element using negatiev and positive indexing:\n",
      " positive: ACDC \n",
      " negative: ACDC\n",
      "the same element using negatiev and positive indexing:\n",
      " positive: Back in Black \n",
      " negative: Back in Black\n",
      "the same element using negatiev and positive indexing:\n",
      " positive: 1980 \n",
      " negative: 1980\n",
      "the same element using negatiev and positive indexing:\n",
      " positive: hard rock \n",
      " negative: hard rock\n",
      "the same element using negatiev and positive indexing:\n",
      " positive: 26.1 \n",
      " negative: 26.1\n",
      "the same element using negatiev and positive indexing:\n",
      " positive: 50 \n",
      " negative: 50\n"
     ]
    }
   ],
   "source": [
    "print('the same element using negatiev and positive indexing:\\n positive:', L[0], '\\n negative:', L[-6])\n",
    "print('the same element using negatiev and positive indexing:\\n positive:', L[1], '\\n negative:', L[-5])\n",
    "print('the same element using negatiev and positive indexing:\\n positive:', L[2], '\\n negative:', L[-4])\n",
    "print('the same element using negatiev and positive indexing:\\n positive:', L[3], '\\n negative:', L[-3])\n",
    "print('the same element using negatiev and positive indexing:\\n positive:', L[4], '\\n negative:', L[-2])\n",
    "print('the same element using negatiev and positive indexing:\\n positive:', L[5], '\\n negative:', L[-1])"
   ]
  },
  {
   "cell_type": "code",
   "execution_count": 4,
   "id": "b80f2c11-f907-4ef1-a4c1-fe032647cc0b",
   "metadata": {},
   "outputs": [
    {
     "data": {
      "text/plain": [
       "[1980, 'hard rock']"
      ]
     },
     "execution_count": 4,
     "metadata": {},
     "output_type": "execute_result"
    }
   ],
   "source": [
    "# slicing release year and genre\n",
    "L[2:4]\n"
   ]
  },
  {
   "cell_type": "code",
   "execution_count": 6,
   "id": "c8416fa0-bbfe-4d81-b450-ba571e131c6f",
   "metadata": {},
   "outputs": [
    {
     "data": {
      "text/plain": [
       "['ACDC', 'Back in Black', 1980, 'hard rock', 26.1, 50, 42.11, 8.5, 42.11, 8.5]"
      ]
     },
     "execution_count": 6,
     "metadata": {},
     "output_type": "execute_result"
    }
   ],
   "source": [
    "# extend list\n",
    "L.extend([42.11, 8.5])\n",
    "L"
   ]
  },
  {
   "cell_type": "code",
   "execution_count": 7,
   "id": "7e4f897e-b124-4332-9056-ae85ed14b220",
   "metadata": {},
   "outputs": [
    {
     "data": {
      "text/plain": [
       "['ACDC',\n",
       " 'Back in Black',\n",
       " 1980,\n",
       " 'hard rock',\n",
       " 26.1,\n",
       " 50,\n",
       " 42.11,\n",
       " 8.5,\n",
       " 42.11,\n",
       " 8.5,\n",
       " [42.11, 8.5]]"
      ]
     },
     "execution_count": 7,
     "metadata": {},
     "output_type": "execute_result"
    }
   ],
   "source": [
    "# append list\n",
    "L.append([42.11, 8.5])\n",
    "L"
   ]
  },
  {
   "cell_type": "code",
   "execution_count": 9,
   "id": "edad4743-2bf7-4e39-b250-5eadff22b736",
   "metadata": {},
   "outputs": [
    {
     "data": {
      "text/plain": [
       "['ACDC',\n",
       " 'Back in Black',\n",
       " 1980,\n",
       " 'hard rock',\n",
       " 26.1,\n",
       " 50,\n",
       " 42.11,\n",
       " 8.5,\n",
       " 42.11,\n",
       " 8.5,\n",
       " [42.11, 8.5],\n",
       " 42.11,\n",
       " 8.5,\n",
       " 42.11,\n",
       " 8.5]"
      ]
     },
     "execution_count": 9,
     "metadata": {},
     "output_type": "execute_result"
    }
   ],
   "source": [
    "# extend list\n",
    "L.extend([42.11, 8.5])\n",
    "L"
   ]
  },
  {
   "cell_type": "code",
   "execution_count": 17,
   "id": "e3376752-82ef-4039-b143-7f24b3220806",
   "metadata": {},
   "outputs": [
    {
     "name": "stdout",
     "output_type": "stream",
     "text": [
      "Before change: ['ACDC', 'Back in Black', 1980, 'hard rock', 26.1, 50, 42.11, 8.5]\n",
      "after change: ['heavy metal', 'Back in Black', 1980, 'hard rock', 26.1, 50, 42.11, 8.5]\n"
     ]
    }
   ],
   "source": [
    "# change an element of the list\n",
    "A = ['ACDC', 'Back in Black', 1980, 'hard rock', 26.1, 50, 42.11, 8.5]\n",
    "print('Before change:', A)\n",
    "A[0]='heavy metal'\n",
    "print('after change:', A)"
   ]
  },
  {
   "cell_type": "code",
   "execution_count": 18,
   "id": "9d91c040-b935-442d-b632-1931d3b2119d",
   "metadata": {},
   "outputs": [
    {
     "name": "stdout",
     "output_type": "stream",
     "text": [
      "before change: ['heavy metal', 'Back in Black', 1980, 'hard rock', 26.1, 50, 42.11, 8.5]\n",
      "after change: ['heavy metal', 'Back in Black', 1980, 'hard rock', 50, 42.11, 8.5]\n"
     ]
    }
   ],
   "source": [
    "# delete  an element based on an index\n",
    "print('before change:', A)\n",
    "del(A[4])\n",
    "print('after change:', A)"
   ]
  },
  {
   "cell_type": "code",
   "execution_count": 19,
   "id": "da1d2475-d442-451c-9222-71ba950102ce",
   "metadata": {},
   "outputs": [
    {
     "data": {
      "text/plain": [
       "['heavy', 'metal']"
      ]
     },
     "execution_count": 19,
     "metadata": {},
     "output_type": "execute_result"
    }
   ],
   "source": [
    "# split the string by space\n",
    "\"heavy metal\".split()"
   ]
  },
  {
   "cell_type": "code",
   "execution_count": 20,
   "id": "2250b26c-838c-491a-a06a-57bcbcf1e4a2",
   "metadata": {},
   "outputs": [
    {
     "data": {
      "text/plain": [
       "['A', 'C', 'D', 'C']"
      ]
     },
     "execution_count": 20,
     "metadata": {},
     "output_type": "execute_result"
    }
   ],
   "source": [
    "# split string by comma\n",
    "\"A,C,D,C\".split(',')"
   ]
  },
  {
   "cell_type": "code",
   "execution_count": 22,
   "id": "ae80f975-05df-4526-b660-5fde97ddc8b1",
   "metadata": {},
   "outputs": [
    {
     "name": "stdout",
     "output_type": "stream",
     "text": [
      "C: ['Bee Gees', 9.5, 'disco', 1977]\n",
      "D: ['Bee Gees', 9.5, 'disco', 1977]\n"
     ]
    }
   ],
   "source": [
    "C=[\"Bee Gees\", 9.5, \"disco\", 1977]\n",
    "D=C\n",
    "print('C:', C)\n",
    "print('D:', D)"
   ]
  },
  {
   "cell_type": "code",
   "execution_count": 23,
   "id": "1d1c8c3d-8ded-424b-9bd3-d5fd4888539b",
   "metadata": {},
   "outputs": [
    {
     "name": "stdout",
     "output_type": "stream",
     "text": [
      "C[0]: Bee Gees\n",
      "D[0]: Metallica\n"
     ]
    }
   ],
   "source": [
    "# Examine the copy by reference\n",
    "\n",
    "print('C[0]:', C[0])\n",
    "C[0] = \"Metallica\"\n",
    "print('D[0]:', D[0])"
   ]
  },
  {
   "cell_type": "code",
   "execution_count": 24,
   "id": "1f7dabbe-6476-4b71-a10d-f1a18a4051a4",
   "metadata": {},
   "outputs": [
    {
     "data": {
      "text/plain": [
       "['Metallica', 9.5, 'disco', 1977]"
      ]
     },
     "execution_count": 24,
     "metadata": {},
     "output_type": "execute_result"
    }
   ],
   "source": [
    "# clone a list\n",
    "E = C[:]\n",
    "E"
   ]
  },
  {
   "cell_type": "code",
   "execution_count": 25,
   "id": "25dc8be3-e816-4783-8623-f2d3b6fcdc66",
   "metadata": {},
   "outputs": [
    {
     "name": "stdout",
     "output_type": "stream",
     "text": [
      "C[0]: Metallica\n",
      "C[0]: Metallica\n"
     ]
    }
   ],
   "source": [
    "# hehe, fix disco \n",
    "print('C[0]:', C[0])\n",
    "E[2]=\"heavy metal\"\n",
    "print('C[0]:', C[0])"
   ]
  },
  {
   "cell_type": "code",
   "execution_count": 28,
   "id": "2d9b2dbe-416d-4c82-bf99-07c6a7e02e85",
   "metadata": {},
   "outputs": [
    {
     "data": {
      "text/plain": [
       "[1, 'hello', [1, 2, 3], 'True']"
      ]
     },
     "execution_count": 28,
     "metadata": {},
     "output_type": "execute_result"
    }
   ],
   "source": [
    "# create a list\n",
    "a_list=[1, 'hello', [1,2,3], 'True']\n",
    "a_list"
   ]
  },
  {
   "cell_type": "code",
   "execution_count": 30,
   "id": "c2019b0c-0d72-4b0d-b364-2b525cd56f72",
   "metadata": {},
   "outputs": [
    {
     "data": {
      "text/plain": [
       "'hello'"
      ]
     },
     "execution_count": 30,
     "metadata": {},
     "output_type": "execute_result"
    }
   ],
   "source": [
    "a_list[1]"
   ]
  },
  {
   "cell_type": "code",
   "execution_count": 32,
   "id": "352bd20c-817b-469e-b188-cb24e5f271c8",
   "metadata": {},
   "outputs": [
    {
     "data": {
      "text/plain": [
       "['hello', [1, 2, 3], 'True']"
      ]
     },
     "execution_count": 32,
     "metadata": {},
     "output_type": "execute_result"
    }
   ],
   "source": [
    "a_list[1:4]"
   ]
  },
  {
   "cell_type": "code",
   "execution_count": 35,
   "id": "c0285f59-1ee6-4f85-a73e-0e5217e89c46",
   "metadata": {},
   "outputs": [
    {
     "data": {
      "text/plain": [
       "[1, 'a', 2, 1, 'd']"
      ]
     },
     "execution_count": 35,
     "metadata": {},
     "output_type": "execute_result"
    }
   ],
   "source": [
    "#concat A and B\n",
    "A=[1, \"a\"]\n",
    "B=[2, 1, 'd']\n",
    "A + B"
   ]
  },
  {
   "cell_type": "code",
   "execution_count": null,
   "id": "9f90528c-9a33-4e0d-baf0-6cb8c2504631",
   "metadata": {},
   "outputs": [],
   "source": []
  }
 ],
 "metadata": {
  "kernelspec": {
   "display_name": "Python",
   "language": "python",
   "name": "conda-env-python-py"
  },
  "language_info": {
   "codemirror_mode": {
    "name": "ipython",
    "version": 3
   },
   "file_extension": ".py",
   "mimetype": "text/x-python",
   "name": "python",
   "nbconvert_exporter": "python",
   "pygments_lexer": "ipython3",
   "version": "3.6.13"
  }
 },
 "nbformat": 4,
 "nbformat_minor": 5
}
